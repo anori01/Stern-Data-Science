{
 "cells": [
  {
   "cell_type": "markdown",
   "metadata": {},
   "source": [
    "### Assignment 3: Data Structures, Loops, Functions"
   ]
  },
  {
   "cell_type": "markdown",
   "metadata": {},
   "source": [
    "#### (10 pts) A. Nested Data Structures and Lists\n",
    "\n",
    "The students received their grades for a midterm exam. The results came as a dictionary, and the grades are in the form of lists. The list contains the score each student received, for each question in the midterm. Unfortunately, the professor was very absent minded and he forgot to sum up the points to compute the overall grade for each student.\n",
    "\n",
    "* (1pts) How many students are in the data set?\n",
    "* (1pts) How many questions were in the midterm?\n",
    "* (4pts) Write code to compute the overall grade of each student. Add the overall grade in a new dictionary called `midterm_grades`, with the students as keys, and the overall grades as (integer) values.\n",
    "* (1pts) Extract the values from the `midterm_grades` and create a list of the overall grades for the midterm.\n",
    "* (3pts) Compute the maximum, minimum, average, and median grade among the overall student grades.\n"
   ]
  },
  {
   "cell_type": "code",
   "execution_count": 25,
   "metadata": {
    "collapsed": true
   },
   "outputs": [],
   "source": [
    "grades = {\n",
    "    \"studentA\" : [5, 2, 3, 1, 2, 4, 5, 5, 1, 1],\n",
    "    \"studentB\" : [1, 2, 5, 5, 2, 0, 1, 5, 5, 2],\n",
    "    \"studentC\" : [2, 5, 5, 5, 5, 0, 1, 3, 1, 0],\n",
    "    \"studentD\" : [0, 1, 0, 5, 2, 5, 1, 3, 3, 5],\n",
    "    \"studentE\" : [5, 4, 5, 5, 1, 5, 1, 4, 4, 5],\n",
    "    \"studentF\" : [2, 2, 1, 1, 1, 3, 1, 3, 0, 1],\n",
    "    \"studentG\" : [5, 5, 5, 5, 5, 4, 3, 5, 3, 1],\n",
    "}"
   ]
  },
  {
   "cell_type": "code",
   "execution_count": 26,
   "metadata": {},
   "outputs": [
    {
     "name": "stdout",
     "output_type": "stream",
     "text": [
      "There are 7 students in the data set.\n"
     ]
    }
   ],
   "source": [
    "print(\"There are\" , len(grades) , \"students in the data set.\")"
   ]
  },
  {
   "cell_type": "code",
   "execution_count": 27,
   "metadata": {},
   "outputs": [
    {
     "name": "stdout",
     "output_type": "stream",
     "text": [
      "There were 10 questions in the midterm.\n"
     ]
    }
   ],
   "source": [
    "print(\"There were\" , len(grades[\"studentA\"]) , \"questions in the midterm.\")"
   ]
  },
  {
   "cell_type": "code",
   "execution_count": 28,
   "metadata": {},
   "outputs": [
    {
     "name": "stdout",
     "output_type": "stream",
     "text": [
      "{'studentD': 25, 'studentA': 29, 'studentE': 39, 'studentG': 41, 'studentB': 28, 'studentC': 27, 'studentF': 15}\n"
     ]
    }
   ],
   "source": [
    "midterm_grades = {}\n",
    "\n",
    "def find_score (student):\n",
    "    specific_student = grades[student]\n",
    "    added = 0\n",
    "    x = 0\n",
    "    for score in specific_student:\n",
    "        added = added + specific_student[x]\n",
    "        x = x + 1\n",
    "    return added\n",
    "\n",
    "# def alternate_find_score(student):\n",
    "#     return sum(grades[student])\n",
    "\n",
    "\n",
    "for student in grades:\n",
    "    key = student\n",
    "    score = find_score(student)\n",
    "    \n",
    "    midterm_grades[key] = score\n",
    "\n",
    "print(midterm_grades)"
   ]
  },
  {
   "cell_type": "code",
   "execution_count": 29,
   "metadata": {},
   "outputs": [
    {
     "name": "stdout",
     "output_type": "stream",
     "text": [
      "[25, 29, 39, 41, 28, 27, 15]\n"
     ]
    }
   ],
   "source": [
    "print(list(midterm_grades.values()))"
   ]
  },
  {
   "cell_type": "code",
   "execution_count": 27,
   "metadata": {},
   "outputs": [
    {
     "name": "stdout",
     "output_type": "stream",
     "text": [
      "The maximum value is 41\n",
      "The minimum value is 15\n",
      "The average value is 29.142857142857142\n",
      "The median value is 28\n"
     ]
    }
   ],
   "source": [
    "order = sorted(midterm_grades.values())\n",
    "maximum_value = order[-1]\n",
    "print(\"The maximum value is\" , maximum_value)\n",
    "\n",
    "\n",
    "minimum_value = order[0]\n",
    "print(\"The minimum value is\" , minimum_value)\n",
    "\n",
    "\n",
    "average_value = sum (order)/len(order)\n",
    "print(\"The average value is\" , average_value)   \n",
    "\n",
    "\n",
    "median_value = order[int(len(order)/2)]\n",
    "print(\"The median value is\" ,median_value)"
   ]
  },
  {
   "cell_type": "markdown",
   "metadata": {},
   "source": [
    "\n",
    "#### (10 pts) B. Restaurant Meal Price \n",
    "\n",
    "* Part 1. (1pts) Write code that computes the total price of the meal in a restaurant. You know that:\n",
    "    * The price of the food is $15.\n",
    "    * The NY State Tax rate is 8.875%.\n",
    "    * The tipping percentage is 18% of the the overall cost of the meal (including tax).\n",
    "    * Use Python variables to perform the computation.\n",
    "\n",
    "* Part 2. (2 pts) Write a function that computes the total price of the meal in a restaurant. The function takes as input the food price, the sales tax rate, and the tip percentage. The tip is computed on the overall cost of the meal (including tax).\n",
    "\n",
    "* Part 3. (3 pts) Write a for loop that computes the total price of a meal, for different tipping rates, starting from 15% and ending at 25% (both inclusive) at 1% increments. Use the function from Part 2 as part of the loop.\n",
    "\n",
    "* Part 4. (4 pts) Below you will find a dictionary with the tax rates for different states, expressed in percentiles. Iterate through all states and print the value of a meal, where the pre-tax food price is $20; show the prices for tip percentages of 15%, 20%, and 25%.\n",
    "\n"
   ]
  },
  {
   "cell_type": "code",
   "execution_count": 44,
   "metadata": {},
   "outputs": [
    {
     "name": "stdout",
     "output_type": "stream",
     "text": [
      "The total cost is 19.270875 dollars.\n"
     ]
    }
   ],
   "source": [
    "#PART 1\n",
    "food = 15\n",
    "tax = 8.875\n",
    "tip = 18\n",
    "\n",
    "\n",
    "pre_tip = food + food*(tax/100)\n",
    "check = pre_tip + pre_tip*(tip/100)\n",
    "\n",
    "print(\"The total cost is\" , check , \"dollars.\")"
   ]
  },
  {
   "cell_type": "code",
   "execution_count": 33,
   "metadata": {},
   "outputs": [
    {
     "data": {
      "text/plain": [
       "19.270875"
      ]
     },
     "execution_count": 33,
     "metadata": {},
     "output_type": "execute_result"
    }
   ],
   "source": [
    "#PART 2\n",
    "food_cost = 15\n",
    "NYtax = 8.875\n",
    "tip_percentage = 18\n",
    "\n",
    "def total_price(food , tax, tip):\n",
    "    pre_tip = food + food*(tax/100)\n",
    "    check = pre_tip + pre_tip*(tip/100)\n",
    "    return check\n",
    "total_price(food_cost , NYtax, tip_percentage)"
   ]
  },
  {
   "cell_type": "code",
   "execution_count": 37,
   "metadata": {},
   "outputs": [
    {
     "name": "stdout",
     "output_type": "stream",
     "text": [
      "For a tip value of 15\n",
      "18.7809375\n",
      "For a tip value of 16\n",
      "18.94425\n",
      "For a tip value of 17\n",
      "19.1075625\n",
      "For a tip value of 18\n",
      "19.270875\n",
      "For a tip value of 19\n",
      "19.4341875\n",
      "For a tip value of 20\n",
      "19.5975\n",
      "For a tip value of 21\n",
      "19.7608125\n",
      "For a tip value of 22\n",
      "19.924125\n",
      "For a tip value of 23\n",
      "20.0874375\n",
      "For a tip value of 24\n",
      "20.25075\n",
      "For a tip value of 25\n",
      "20.4140625\n"
     ]
    }
   ],
   "source": [
    "#PART 3\n",
    "food_cost = 15\n",
    "tip_percentage = range(15,26)\n",
    "NYtax = 8.875\n",
    "\n",
    "def total_price(food , tax, tip):\n",
    "    pre_tip = food + food*(tax/100)\n",
    "    check = pre_tip + pre_tip*(tip/100)\n",
    "    return check\n",
    "\n",
    "\n",
    "for value in tip_percentage:\n",
    "    print(\"For a tip value of\" , value)\n",
    "    cost = total_price(food_cost, NYtax, value)\n",
    "    print(cost)\n",
    "    "
   ]
  },
  {
   "cell_type": "code",
   "execution_count": 6,
   "metadata": {
    "collapsed": true
   },
   "outputs": [],
   "source": [
    "tax = {\n",
    "    \"Alabama\": 13.50, \n",
    "    \"Alaska\": 7,\n",
    "    \"Arizona\": 10.73,\n",
    "    \"Arkansas\": 11.63,\n",
    "    \"California\": 10,\n",
    "    \"Colorado\": 10,\n",
    "    \"Connecticut\": 6.35,\n",
    "    \"Delaware\": 0,\n",
    "    \"District of Columbia\": 5.75,\n",
    "    \"Florida\": 7.50,\n",
    "    \"Georgia\": 8,\n",
    "    \"Hawaii\": 4.50,\n",
    "    \"Idaho\": 8.50,\n",
    "    \"Illinois\": 9.75,\n",
    "    \"Indiana\": 7,\n",
    "    \"Iowa\": 7,\n",
    "    \"Kansas\": 9.65,\n",
    "    \"Kentucky\": 6,\n",
    "    \"Louisiana\": 11,\n",
    "    \"Maine\": 5.50,\n",
    "    \"Maryland\": 6,\n",
    "    \"Massachusetts\": 6.25,\n",
    "    \"Michigan\": 6,\n",
    "    \"Minnesota\": 7.88,\n",
    "    \"Mississippi\": 7.25,\n",
    "    \"Missouri\": 9.35,\n",
    "    \"Montana\": 0,\n",
    "    \"Nebraska\": 7.50,\n",
    "    \"Nevada\": 8.10,\n",
    "    \"New Hampshire\": 0,\n",
    "    \"New Jersey\": 7,\n",
    "    \"New Mexico\": 8.69,\n",
    "    \"New York\": 8.88,\n",
    "    \"North Carolina\": 7.50,\n",
    "    \"North Dakota\": 8,\n",
    "    \"Ohio\": 8,\n",
    "    \"Oklahoma\": 11,\n",
    "    \"Oregon\": 0,\n",
    "    \"Pennsylvania\": 8,\n",
    "    \"Rhode Island\": 7,\n",
    "    \"South Carolina\": 9,\n",
    "    \"South Dakota\": 6,\n",
    "    \"Tennessee\": 9.75,\n",
    "    \"Texas\": 8.25,\n",
    "    \"Utah\": 8.35,\n",
    "    \"Vermont\": 7,\n",
    "    \"Virginia\": 6,\n",
    "    \"Washington\": 9.60,\n",
    "    \"West Virginia\": 7,\n",
    "    \"Wisconsin\": 5.60,\n",
    "    \"Wyoming\": 6,\n",
    "}"
   ]
  },
  {
   "cell_type": "code",
   "execution_count": 7,
   "metadata": {},
   "outputs": [
    {
     "name": "stdout",
     "output_type": "stream",
     "text": [
      "For a tip value of 15 in the state of Washington the total meal cost is:\n",
      "25.21 dollars\n",
      "For a tip value of 20 in the state of Washington the total meal cost is:\n",
      "26.3 dollars\n",
      "For a tip value of 25 in the state of Washington the total meal cost is:\n",
      "27.4 dollars\n",
      "For a tip value of 15 in the state of Kentucky the total meal cost is:\n",
      "24.38 dollars\n",
      "For a tip value of 20 in the state of Kentucky the total meal cost is:\n",
      "25.44 dollars\n",
      "For a tip value of 25 in the state of Kentucky the total meal cost is:\n",
      "26.5 dollars\n",
      "For a tip value of 15 in the state of South Dakota the total meal cost is:\n",
      "24.38 dollars\n",
      "For a tip value of 20 in the state of South Dakota the total meal cost is:\n",
      "25.44 dollars\n",
      "For a tip value of 25 in the state of South Dakota the total meal cost is:\n",
      "26.5 dollars\n",
      "For a tip value of 15 in the state of Louisiana the total meal cost is:\n",
      "25.53 dollars\n",
      "For a tip value of 20 in the state of Louisiana the total meal cost is:\n",
      "26.64 dollars\n",
      "For a tip value of 25 in the state of Louisiana the total meal cost is:\n",
      "27.75 dollars\n",
      "For a tip value of 15 in the state of Alabama the total meal cost is:\n",
      "26.11 dollars\n",
      "For a tip value of 20 in the state of Alabama the total meal cost is:\n",
      "27.24 dollars\n",
      "For a tip value of 25 in the state of Alabama the total meal cost is:\n",
      "28.38 dollars\n",
      "For a tip value of 15 in the state of Iowa the total meal cost is:\n",
      "24.61 dollars\n",
      "For a tip value of 20 in the state of Iowa the total meal cost is:\n",
      "25.68 dollars\n",
      "For a tip value of 25 in the state of Iowa the total meal cost is:\n",
      "26.75 dollars\n",
      "For a tip value of 15 in the state of Idaho the total meal cost is:\n",
      "24.95 dollars\n",
      "For a tip value of 20 in the state of Idaho the total meal cost is:\n",
      "26.04 dollars\n",
      "For a tip value of 25 in the state of Idaho the total meal cost is:\n",
      "27.12 dollars\n",
      "For a tip value of 15 in the state of Connecticut the total meal cost is:\n",
      "24.46 dollars\n",
      "For a tip value of 20 in the state of Connecticut the total meal cost is:\n",
      "25.52 dollars\n",
      "For a tip value of 25 in the state of Connecticut the total meal cost is:\n",
      "26.59 dollars\n",
      "For a tip value of 15 in the state of Wyoming the total meal cost is:\n",
      "24.38 dollars\n",
      "For a tip value of 20 in the state of Wyoming the total meal cost is:\n",
      "25.44 dollars\n",
      "For a tip value of 25 in the state of Wyoming the total meal cost is:\n",
      "26.5 dollars\n",
      "For a tip value of 15 in the state of Tennessee the total meal cost is:\n",
      "25.24 dollars\n",
      "For a tip value of 20 in the state of Tennessee the total meal cost is:\n",
      "26.34 dollars\n",
      "For a tip value of 25 in the state of Tennessee the total meal cost is:\n",
      "27.44 dollars\n",
      "For a tip value of 15 in the state of Michigan the total meal cost is:\n",
      "24.38 dollars\n",
      "For a tip value of 20 in the state of Michigan the total meal cost is:\n",
      "25.44 dollars\n",
      "For a tip value of 25 in the state of Michigan the total meal cost is:\n",
      "26.5 dollars\n",
      "For a tip value of 15 in the state of West Virginia the total meal cost is:\n",
      "24.61 dollars\n",
      "For a tip value of 20 in the state of West Virginia the total meal cost is:\n",
      "25.68 dollars\n",
      "For a tip value of 25 in the state of West Virginia the total meal cost is:\n",
      "26.75 dollars\n",
      "For a tip value of 15 in the state of Indiana the total meal cost is:\n",
      "24.61 dollars\n",
      "For a tip value of 20 in the state of Indiana the total meal cost is:\n",
      "25.68 dollars\n",
      "For a tip value of 25 in the state of Indiana the total meal cost is:\n",
      "26.75 dollars\n",
      "For a tip value of 15 in the state of Nebraska the total meal cost is:\n",
      "24.73 dollars\n",
      "For a tip value of 20 in the state of Nebraska the total meal cost is:\n",
      "25.8 dollars\n",
      "For a tip value of 25 in the state of Nebraska the total meal cost is:\n",
      "26.88 dollars\n",
      "For a tip value of 15 in the state of Kansas the total meal cost is:\n",
      "25.22 dollars\n",
      "For a tip value of 20 in the state of Kansas the total meal cost is:\n",
      "26.32 dollars\n",
      "For a tip value of 25 in the state of Kansas the total meal cost is:\n",
      "27.41 dollars\n",
      "For a tip value of 15 in the state of Maryland the total meal cost is:\n",
      "24.38 dollars\n",
      "For a tip value of 20 in the state of Maryland the total meal cost is:\n",
      "25.44 dollars\n",
      "For a tip value of 25 in the state of Maryland the total meal cost is:\n",
      "26.5 dollars\n",
      "For a tip value of 15 in the state of Florida the total meal cost is:\n",
      "24.73 dollars\n",
      "For a tip value of 20 in the state of Florida the total meal cost is:\n",
      "25.8 dollars\n",
      "For a tip value of 25 in the state of Florida the total meal cost is:\n",
      "26.88 dollars\n",
      "For a tip value of 15 in the state of Texas the total meal cost is:\n",
      "24.9 dollars\n",
      "For a tip value of 20 in the state of Texas the total meal cost is:\n",
      "25.98 dollars\n",
      "For a tip value of 25 in the state of Texas the total meal cost is:\n",
      "27.06 dollars\n",
      "For a tip value of 15 in the state of Rhode Island the total meal cost is:\n",
      "24.61 dollars\n",
      "For a tip value of 20 in the state of Rhode Island the total meal cost is:\n",
      "25.68 dollars\n",
      "For a tip value of 25 in the state of Rhode Island the total meal cost is:\n",
      "26.75 dollars\n",
      "For a tip value of 15 in the state of Montana the total meal cost is:\n",
      "23.0 dollars\n",
      "For a tip value of 20 in the state of Montana the total meal cost is:\n",
      "24.0 dollars\n",
      "For a tip value of 25 in the state of Montana the total meal cost is:\n",
      "25.0 dollars\n",
      "For a tip value of 15 in the state of District of Columbia the total meal cost is:\n",
      "24.32 dollars\n",
      "For a tip value of 20 in the state of District of Columbia the total meal cost is:\n",
      "25.38 dollars\n",
      "For a tip value of 25 in the state of District of Columbia the total meal cost is:\n",
      "26.44 dollars\n",
      "For a tip value of 15 in the state of South Carolina the total meal cost is:\n",
      "25.07 dollars\n",
      "For a tip value of 20 in the state of South Carolina the total meal cost is:\n",
      "26.16 dollars\n",
      "For a tip value of 25 in the state of South Carolina the total meal cost is:\n",
      "27.25 dollars\n",
      "For a tip value of 15 in the state of New York the total meal cost is:\n",
      "25.04 dollars\n",
      "For a tip value of 20 in the state of New York the total meal cost is:\n",
      "26.13 dollars\n",
      "For a tip value of 25 in the state of New York the total meal cost is:\n",
      "27.22 dollars\n",
      "For a tip value of 15 in the state of Colorado the total meal cost is:\n",
      "25.3 dollars\n",
      "For a tip value of 20 in the state of Colorado the total meal cost is:\n",
      "26.4 dollars\n",
      "For a tip value of 25 in the state of Colorado the total meal cost is:\n",
      "27.5 dollars\n",
      "For a tip value of 15 in the state of Wisconsin the total meal cost is:\n",
      "24.29 dollars\n",
      "For a tip value of 20 in the state of Wisconsin the total meal cost is:\n",
      "25.34 dollars\n",
      "For a tip value of 25 in the state of Wisconsin the total meal cost is:\n",
      "26.4 dollars\n",
      "For a tip value of 15 in the state of Massachusetts the total meal cost is:\n",
      "24.44 dollars\n",
      "For a tip value of 20 in the state of Massachusetts the total meal cost is:\n",
      "25.5 dollars\n",
      "For a tip value of 25 in the state of Massachusetts the total meal cost is:\n",
      "26.56 dollars\n",
      "For a tip value of 15 in the state of North Carolina the total meal cost is:\n",
      "24.73 dollars\n",
      "For a tip value of 20 in the state of North Carolina the total meal cost is:\n",
      "25.8 dollars\n",
      "For a tip value of 25 in the state of North Carolina the total meal cost is:\n",
      "26.88 dollars\n",
      "For a tip value of 15 in the state of Mississippi the total meal cost is:\n",
      "24.67 dollars\n",
      "For a tip value of 20 in the state of Mississippi the total meal cost is:\n",
      "25.74 dollars\n",
      "For a tip value of 25 in the state of Mississippi the total meal cost is:\n",
      "26.81 dollars\n",
      "For a tip value of 15 in the state of Utah the total meal cost is:\n",
      "24.92 dollars\n",
      "For a tip value of 20 in the state of Utah the total meal cost is:\n",
      "26.0 dollars\n",
      "For a tip value of 25 in the state of Utah the total meal cost is:\n",
      "27.09 dollars\n",
      "For a tip value of 15 in the state of Maine the total meal cost is:\n",
      "24.27 dollars\n",
      "For a tip value of 20 in the state of Maine the total meal cost is:\n",
      "25.32 dollars\n",
      "For a tip value of 25 in the state of Maine the total meal cost is:\n",
      "26.38 dollars\n",
      "For a tip value of 15 in the state of Pennsylvania the total meal cost is:\n",
      "24.84 dollars\n",
      "For a tip value of 20 in the state of Pennsylvania the total meal cost is:\n",
      "25.92 dollars\n",
      "For a tip value of 25 in the state of Pennsylvania the total meal cost is:\n",
      "27.0 dollars\n",
      "For a tip value of 15 in the state of Alaska the total meal cost is:\n",
      "24.61 dollars\n",
      "For a tip value of 20 in the state of Alaska the total meal cost is:\n",
      "25.68 dollars\n",
      "For a tip value of 25 in the state of Alaska the total meal cost is:\n",
      "26.75 dollars\n",
      "For a tip value of 15 in the state of Hawaii the total meal cost is:\n",
      "24.03 dollars\n",
      "For a tip value of 20 in the state of Hawaii the total meal cost is:\n",
      "25.08 dollars\n",
      "For a tip value of 25 in the state of Hawaii the total meal cost is:\n",
      "26.12 dollars\n",
      "For a tip value of 15 in the state of North Dakota the total meal cost is:\n",
      "24.84 dollars\n",
      "For a tip value of 20 in the state of North Dakota the total meal cost is:\n",
      "25.92 dollars\n",
      "For a tip value of 25 in the state of North Dakota the total meal cost is:\n",
      "27.0 dollars\n",
      "For a tip value of 15 in the state of Minnesota the total meal cost is:\n",
      "24.81 dollars\n",
      "For a tip value of 20 in the state of Minnesota the total meal cost is:\n",
      "25.89 dollars\n",
      "For a tip value of 25 in the state of Minnesota the total meal cost is:\n",
      "26.97 dollars\n",
      "For a tip value of 15 in the state of Illinois the total meal cost is:\n",
      "25.24 dollars\n",
      "For a tip value of 20 in the state of Illinois the total meal cost is:\n",
      "26.34 dollars\n",
      "For a tip value of 25 in the state of Illinois the total meal cost is:\n",
      "27.44 dollars\n",
      "For a tip value of 15 in the state of New Hampshire the total meal cost is:\n",
      "23.0 dollars\n",
      "For a tip value of 20 in the state of New Hampshire the total meal cost is:\n",
      "24.0 dollars\n",
      "For a tip value of 25 in the state of New Hampshire the total meal cost is:\n",
      "25.0 dollars\n",
      "For a tip value of 15 in the state of Oklahoma the total meal cost is:\n",
      "25.53 dollars\n",
      "For a tip value of 20 in the state of Oklahoma the total meal cost is:\n",
      "26.64 dollars\n",
      "For a tip value of 25 in the state of Oklahoma the total meal cost is:\n",
      "27.75 dollars\n",
      "For a tip value of 15 in the state of Oregon the total meal cost is:\n",
      "23.0 dollars\n",
      "For a tip value of 20 in the state of Oregon the total meal cost is:\n",
      "24.0 dollars\n",
      "For a tip value of 25 in the state of Oregon the total meal cost is:\n",
      "25.0 dollars\n",
      "For a tip value of 15 in the state of California the total meal cost is:\n",
      "25.3 dollars\n",
      "For a tip value of 20 in the state of California the total meal cost is:\n",
      "26.4 dollars\n",
      "For a tip value of 25 in the state of California the total meal cost is:\n",
      "27.5 dollars\n",
      "For a tip value of 15 in the state of Missouri the total meal cost is:\n",
      "25.15 dollars\n",
      "For a tip value of 20 in the state of Missouri the total meal cost is:\n",
      "26.24 dollars\n",
      "For a tip value of 25 in the state of Missouri the total meal cost is:\n",
      "27.34 dollars\n",
      "For a tip value of 15 in the state of Arizona the total meal cost is:\n",
      "25.47 dollars\n",
      "For a tip value of 20 in the state of Arizona the total meal cost is:\n",
      "26.58 dollars\n",
      "For a tip value of 25 in the state of Arizona the total meal cost is:\n",
      "27.68 dollars\n",
      "For a tip value of 15 in the state of New Mexico the total meal cost is:\n",
      "25.0 dollars\n",
      "For a tip value of 20 in the state of New Mexico the total meal cost is:\n",
      "26.09 dollars\n",
      "For a tip value of 25 in the state of New Mexico the total meal cost is:\n",
      "27.17 dollars\n",
      "For a tip value of 15 in the state of Georgia the total meal cost is:\n",
      "24.84 dollars\n",
      "For a tip value of 20 in the state of Georgia the total meal cost is:\n",
      "25.92 dollars\n",
      "For a tip value of 25 in the state of Georgia the total meal cost is:\n",
      "27.0 dollars\n",
      "For a tip value of 15 in the state of Nevada the total meal cost is:\n",
      "24.86 dollars\n",
      "For a tip value of 20 in the state of Nevada the total meal cost is:\n",
      "25.94 dollars\n",
      "For a tip value of 25 in the state of Nevada the total meal cost is:\n",
      "27.03 dollars\n",
      "For a tip value of 15 in the state of New Jersey the total meal cost is:\n",
      "24.61 dollars\n",
      "For a tip value of 20 in the state of New Jersey the total meal cost is:\n",
      "25.68 dollars\n",
      "For a tip value of 25 in the state of New Jersey the total meal cost is:\n",
      "26.75 dollars\n",
      "For a tip value of 15 in the state of Ohio the total meal cost is:\n",
      "24.84 dollars\n",
      "For a tip value of 20 in the state of Ohio the total meal cost is:\n",
      "25.92 dollars\n",
      "For a tip value of 25 in the state of Ohio the total meal cost is:\n",
      "27.0 dollars\n",
      "For a tip value of 15 in the state of Arkansas the total meal cost is:\n",
      "25.67 dollars\n",
      "For a tip value of 20 in the state of Arkansas the total meal cost is:\n",
      "26.79 dollars\n",
      "For a tip value of 25 in the state of Arkansas the total meal cost is:\n",
      "27.91 dollars\n",
      "For a tip value of 15 in the state of Delaware the total meal cost is:\n",
      "23.0 dollars\n",
      "For a tip value of 20 in the state of Delaware the total meal cost is:\n",
      "24.0 dollars\n",
      "For a tip value of 25 in the state of Delaware the total meal cost is:\n",
      "25.0 dollars\n",
      "For a tip value of 15 in the state of Virginia the total meal cost is:\n",
      "24.38 dollars\n",
      "For a tip value of 20 in the state of Virginia the total meal cost is:\n",
      "25.44 dollars\n",
      "For a tip value of 25 in the state of Virginia the total meal cost is:\n",
      "26.5 dollars\n",
      "For a tip value of 15 in the state of Vermont the total meal cost is:\n",
      "24.61 dollars\n",
      "For a tip value of 20 in the state of Vermont the total meal cost is:\n",
      "25.68 dollars\n",
      "For a tip value of 25 in the state of Vermont the total meal cost is:\n",
      "26.75 dollars\n"
     ]
    }
   ],
   "source": [
    "food = 20\n",
    "\n",
    "def total_price(food , tax, tip):\n",
    "    pre_tip = food + food*(tax/100)\n",
    "    check = pre_tip + pre_tip*(tip/100)\n",
    "    return check    \n",
    "\n",
    "\n",
    "for state in tax:\n",
    "    print(\"For a tip value of 15 in the state of\", state , \"the total meal cost is:\")\n",
    "    cost = round(total_price(food, tax[state], 15),2)\n",
    "    print(cost , \"dollars\")\n",
    "    \n",
    "    print(\"For a tip value of 20 in the state of\", state , \"the total meal cost is:\")\n",
    "    cost = round((total_price(food, tax[state], 20)),2)\n",
    "    print(cost, \"dollars\")\n",
    "    \n",
    "    print(\"For a tip value of 25 in the state of\", state , \"the total meal cost is:\")\n",
    "    cost = round(total_price(food, tax[state], 25),2)\n",
    "    print(cost, \"dollars\")\n",
    "    \n",
    "    \n",
    "    \n",
    "    \n",
    "    "
   ]
  },
  {
   "cell_type": "code",
   "execution_count": 9,
   "metadata": {},
   "outputs": [
    {
     "data": {
      "text/plain": [
       "21.682475"
      ]
     },
     "execution_count": 9,
     "metadata": {},
     "output_type": "execute_result"
    }
   ],
   "source": [
    "#modified to take state name as an input\n",
    "\n",
    "food = 20\n",
    "state_name = \"Texas\"\n",
    "tax_amount = tax[state_name]\n",
    "tip = .15\n",
    "\n",
    "def total_price(food , state_name, tip):\n",
    "    pre_tip = food + food*(tax_amount/100)\n",
    "    check = pre_tip + pre_tip*(tip/100)\n",
    "    return check\n",
    "\n",
    "total_price(food , state_name , tip)"
   ]
  },
  {
   "cell_type": "markdown",
   "metadata": {},
   "source": [
    "#### (5 pts) C. Search within a file \n",
    "\n",
    "Read the file `restaurant-names.txt` which is stored under: `/home/ubuntu/jupyter/NYU_Notes/2-Introduction_to_Python/data/restaurant-names.txt` and answer the following questions:\n",
    "* How many restaurants appear in the dataset?\n",
    "* Print the restaurants that contain the word GREEK in their name.\n",
    "* How many restaurants contain the word PIZZA in their name?"
   ]
  },
  {
   "cell_type": "code",
   "execution_count": 84,
   "metadata": {},
   "outputs": [
    {
     "name": "stdout",
     "output_type": "stream",
     "text": [
      "There are 20444 restuarants in the dataset.\n",
      "These are the greek restaurants in the data set: [\"ANTHI'S GREEK FOOD\", 'AVLEE  GREEK KITCHEN', 'AVLEE GREEK KITCHEN', 'AVLI THE LITTLE GREEK TAVERN', 'ETHOS GREEK CUISINE', 'GREEK EXPRESS', 'GREEK FAMILY KITCHEN', 'GREEK GARDENS GRILL', 'GREEK GRILL', 'GREEK ISLANDS', 'GRK FRESH GREEK', 'GYRO GREEK STYLE', 'MEDITERRANEAN GRILL GREEK TARVERNA', 'OKEANOS GREEK SEAFOOD', 'OPA! GREEK RESTAURANT', 'RAFINA GREEK CUISINE', 'SOMETHING GREEK', 'SYMPOSIUM GREEK RESTAURANT', 'THE GREEK', 'THE GREEK CORNER', 'THE GREEK KITCHEN  CLINTON BAKERY CAFE', 'VILLAGE TAVERNA GREEK GRILL', 'ZENON TAVERNA GREEK RESTAURANT']\n",
      "There are 963 restaurants that contain the word PIZZA in their name.\n"
     ]
    }
   ],
   "source": [
    "filename = \"/home/ubuntu/jupyter/NYU_Notes/2-Introduction_to_Python/data/restaurant-names.txt\"\n",
    "f = open(filename , 'r') \n",
    "content = f.read() \n",
    "f.close()\n",
    "\n",
    "\n",
    "restaurant_list = content.split(\"\\n\")\n",
    "print(\"There are\" , len(restaurant_list), \"restuarants in the dataset.\")\n",
    "\n",
    "\n",
    "\n",
    "greek_restaurants = []\n",
    "\n",
    "for food in restaurant_list:\n",
    "    if \"GREEK\" in food:\n",
    "        greek_restaurants.append(food)\n",
    "print(\"These are the greek restaurants in the data set:\" , greek_restaurants)\n",
    "\n",
    "\n",
    "\n",
    "\n",
    "x = 0\n",
    "for pizza in restaurant_list:\n",
    "    if \"PIZZA\" in pizza:\n",
    "        x = x+1\n",
    "\n",
    "print(\"There are\" , x , \"restaurants that contain the word PIZZA in their name.\")\n",
    "\n",
    "#count only searches for exact matches. \n",
    "#read the problem. You need to print the ones that contain greek, and count the ones that have pizza. "
   ]
  },
  {
   "cell_type": "markdown",
   "metadata": {},
   "source": [
    "#### (5pts) D. Function that returns a dictionary \n",
    "\n",
    "Write a function that has a parameter that is the height of someone in centimeters. You need to convert it into feet and inches. (Each foot is 30.48 cm. Each inch is 2.54cm.). The function should return the height in feet and inches. The result should be a dictionary with two keys, `feet` and `inches`, and the values for both keys should be integers."
   ]
  },
  {
   "cell_type": "code",
   "execution_count": 86,
   "metadata": {},
   "outputs": [
    {
     "data": {
      "text/plain": [
       "{'feet': 5, 'inches': 8}"
      ]
     },
     "execution_count": 86,
     "metadata": {},
     "output_type": "execute_result"
    }
   ],
   "source": [
    "def height_converter(cm):\n",
    "    cm_per_ft = 30.48\n",
    "    cm_per_in = 2.54\n",
    "    feet = int(cm/cm_per_ft)\n",
    "    inches = int((cm-feet*cm_per_ft)/cm_per_in)\n",
    "    return {\"feet\": feet, \"inches\": inches}\n",
    "\n",
    "height_converter(175)"
   ]
  },
  {
   "cell_type": "markdown",
   "metadata": {},
   "source": [
    "#### (5 pts) E. Road Pricing System \n",
    "\n",
    "The Transport Authority is implementing a new Road Pricing system. The authorities decided that the cars will be charged based on distance travelled, on a per mile basis. A car will be charged $0.50/mi, a van $2.1/mi and taxis travel for free. Create a function to determine how much a particular vehicle would be charged based on a particular distance. The function should take as input the type of the car and the distance travelled, and return the charged price.\n",
    "\n"
   ]
  },
  {
   "cell_type": "code",
   "execution_count": 109,
   "metadata": {},
   "outputs": [
    {
     "data": {
      "text/plain": [
       "6.300000000000001"
      ]
     },
     "execution_count": 109,
     "metadata": {},
     "output_type": "execute_result"
    }
   ],
   "source": [
    "def road_pricer (car_type , distance):\n",
    "    if car_type=='taxi':\n",
    "        return 0.0\n",
    "    elif car_type=='car':\n",
    "        return 0.5*distance\n",
    "    elif car_type=='van':\n",
    "        return 2.1*distance\n",
    "\n",
    "road_pricer(\"van\", 3) #checking"
   ]
  },
  {
   "cell_type": "markdown",
   "metadata": {},
   "source": [
    "#### (15 pts) F. Most Common Item\n",
    "\n",
    "\n",
    "Part 1. (5pts) Write a function that takes as input a list and returns the most common item in the list. \n",
    "\n",
    "Note: This is a challenging exercise. Below, I give some hints. As there are multiple possible solutions, not all hints are applicable to all solutions. Do not freak out if you came up with a solution that is not using some of the hints.\n",
    "\n",
    "* _Hint 1: Make use of set to identify all the unique values in the list_\n",
    "* _Hint 2: Use the `list.count(...)` function to find the frequency of each item_\n",
    "* _Hint 3: The `max()` function can return the maximum value in a list_\n",
    "* _Hint 4: You will need to use a for loop, or a list comprehension_"
   ]
  },
  {
   "cell_type": "code",
   "execution_count": 91,
   "metadata": {},
   "outputs": [
    {
     "data": {
      "text/plain": [
       "2"
      ]
     },
     "execution_count": 91,
     "metadata": {},
     "output_type": "execute_result"
    }
   ],
   "source": [
    "example = [\"Kanisha\", \"Candance\", \"Lila\", \"Lupe\", \"Alexander\", \"Candance\", \n",
    "           \"Irvin\", \"Kanisha\", \"Lila\", \"May\", \"Lila\", \"Alexander\", \"Ivana\", \"Alexander\"]\n",
    "\n",
    "example.count(\"Candance\")"
   ]
  },
  {
   "cell_type": "code",
   "execution_count": 111,
   "metadata": {},
   "outputs": [
    {
     "name": "stdout",
     "output_type": "stream",
     "text": [
      "The maximum is 42\n"
     ]
    }
   ],
   "source": [
    "numbers = [5,42,34,6,7,4,2,5]\n",
    "maximum = 0\n",
    "for number in numbers:\n",
    "    if number > maximum:\n",
    "        maximum = number\n",
    "print(\"The maximum is\", maximum)"
   ]
  },
  {
   "cell_type": "code",
   "execution_count": 148,
   "metadata": {},
   "outputs": [
    {
     "name": "stdout",
     "output_type": "stream",
     "text": [
      "('Alexander', 3)\n",
      "('Lila', 3)\n"
     ]
    }
   ],
   "source": [
    "#Question does not specify what to do if multiple items are equivalently most common. \n",
    "#This function picks one, and returns both the element and its frequency count. \n",
    "\n",
    "# def Most_Common_Item(anygivenlist):\n",
    "#     maximum = 0 \n",
    "#     winner = None \n",
    "#     for value in set(anygivenlist): \n",
    "#         if maximum<anygivenlist.count(value): \n",
    "#             maximum = anygivenlist.count(value) \n",
    "#             winner = value\n",
    "#     return winner , maximum\n",
    "\n",
    "#More performant version\n",
    "def Most_Common_Item_Alternate(anygivenlist):\n",
    "    counter = {}\n",
    "    for value in anygivenlist:\n",
    "        if value in counter:\n",
    "            counter[value] = counter[value] + 1\n",
    "        else:\n",
    "            counter[value] = 1\n",
    "    \n",
    "    max_val = 0\n",
    "    winner = None\n",
    "    for key in counter:\n",
    "        if max_val < counter[key]:\n",
    "            max_val = counter[key]\n",
    "            winner = key\n",
    "    return winner, max_val\n",
    "\n",
    "print(Most_Common_Item_Alternate(example))\n",
    "\n",
    "\n"
   ]
  },
  {
   "cell_type": "markdown",
   "metadata": {},
   "source": [
    "Part 2.  (5pts) Use the function that you created here to find the most frequent restaurant names in the dataset, which is stored at `/home/ubuntu/jupyter/NYU_Notes/2-Introduction_to_Python/data/restaurants.txt`."
   ]
  },
  {
   "cell_type": "code",
   "execution_count": 2,
   "metadata": {},
   "outputs": [
    {
     "name": "stdout",
     "output_type": "stream",
     "text": [
      "CPU times: user 2min 17s, sys: 8 ms, total: 2min 17s\n",
      "Wall time: 2min 20s\n",
      "CPU times: user 100 ms, sys: 0 ns, total: 100 ms\n",
      "Wall time: 103 ms\n"
     ]
    },
    {
     "data": {
      "text/plain": [
       "(\"DUNKIN' DONUTS\", 4473)"
      ]
     },
     "execution_count": 2,
     "metadata": {},
     "output_type": "execute_result"
    }
   ],
   "source": [
    "# def Most_Common_Item(anygivenlist):\n",
    "#     maximum = 0 \n",
    "#     winner = None \n",
    "#     for value in set(anygivenlist): \n",
    "#         if maximum<anygivenlist.count(value): \n",
    "#             maximum = anygivenlist.count(value) \n",
    "#             winner = value\n",
    "#     return winner, maximum\n",
    "\n",
    "def Most_Common_Item_Alternate(anygivenlist):\n",
    "    counter = {}\n",
    "    for value in anygivenlist:\n",
    "        if value in counter:\n",
    "            counter[value] = counter[value] + 1\n",
    "        else:\n",
    "            counter[value] = 1\n",
    "    \n",
    "    max_val = 0\n",
    "    winner = None\n",
    "    for key in counter:\n",
    "        if max_val < counter[key]:\n",
    "            max_val = counter[key]\n",
    "            winner = key\n",
    "    return winner, max_val\n",
    "\n",
    "\n",
    "filename = \"/home/ubuntu/jupyter/NYU_Notes/2-Introduction_to_Python/data/restaurants.txt\"\n",
    "f = open(filename , 'r') \n",
    "content = f.read() \n",
    "f.close()\n",
    "restaurant_list = content.split(\"\\n\")\n",
    "%time Most_Common_Item(restaurant_list)\n",
    "%time Most_Common_Item_Alternate(restaurant_list)"
   ]
  },
  {
   "cell_type": "markdown",
   "metadata": {},
   "source": [
    "_Part 3_.  (5pts) Find the most frequent words that appear in the restaurant names. Create two answers: one for the dataset at `/home/ubuntu/jupyter/NYU_Notes/2-Introduction_to_Python/data/restaurant-names.txt` which contains only distinct restaurant names, and for the dataset at `/home/ubuntu/jupyter/NYU_Notes/2-Introduction_to_Python/data/restaurants.txt` which contains the names of all the restaurants in NYC, without eliminating duplicate names."
   ]
  },
  {
   "cell_type": "code",
   "execution_count": 2,
   "metadata": {},
   "outputs": [
    {
     "name": "stdout",
     "output_type": "stream",
     "text": [
      "Most common name and count from unique restaurant list:  ('RESTAURANT', 3126)\n",
      "Most common name and count from all restaurant list:  ('RESTAURANT', 65737)\n"
     ]
    }
   ],
   "source": [
    "# def Most_Common_Item(anygivenlist):\n",
    "#     maximum = 0 \n",
    "#     winner = None \n",
    "#     for value in set(anygivenlist): \n",
    "#         if maximum<anygivenlist.count(value): \n",
    "#             maximum = anygivenlist.count(value) \n",
    "#             winner = value\n",
    "#     return winner, maximum\n",
    "\n",
    "def Most_Common_Item_Alternate(anygivenlist):\n",
    "    counter = {}\n",
    "    for value in anygivenlist:\n",
    "        if value in counter:\n",
    "            counter[value] = counter[value] + 1\n",
    "        else:\n",
    "            counter[value] = 1\n",
    "    \n",
    "    max_val = 0\n",
    "    winner = None\n",
    "    for key in counter:\n",
    "        if max_val < counter[key]:\n",
    "            max_val = counter[key]\n",
    "            winner = key\n",
    "    return winner, max_val\n",
    "\n",
    "filename1 = \"/home/ubuntu/jupyter/NYU_Notes/2-Introduction_to_Python/data/restaurant-names.txt\"\n",
    "f1 = open(filename1 , 'r') \n",
    "content = f1.read() \n",
    "f1.close()\n",
    "\n",
    "clean_content = content.replace(\"\\n\", \" \").replace(\".\", \"\").replace(\",\", \"\")\n",
    "restaurant_list_unique = clean_content.split(\" \")\n",
    "print(\"Most common name and count from unique restaurant list: \", Most_Common_Item_Alternate(restaurant_list_unique))\n",
    "\n",
    "filename2 = \"/home/ubuntu/jupyter/NYU_Notes/2-Introduction_to_Python/data/restaurants.txt\"\n",
    "f2 = open(filename2 , 'r') \n",
    "content = f2.read() \n",
    "f2.close()\n",
    "\n",
    "clean_content = content.replace(\"\\n\", \" \").replace(\".\", \"\").replace(\",\", \"\")\n",
    "restaurant_list = clean_content.split(\" \")\n",
    "print(\"Most common name and count from all restaurant list: \", Most_Common_Item_Alternate(restaurant_list))\n",
    "\n",
    "#NOTE: Cleaned up the data a little to look at only words. \n",
    "# If I don't do this, things like \"PIZZA.\" and \"PIZZA\" become different words. "
   ]
  }
 ],
 "metadata": {
  "kernelspec": {
   "display_name": "Python 3",
   "language": "python",
   "name": "python3"
  },
  "language_info": {
   "codemirror_mode": {
    "name": "ipython",
    "version": 3
   },
   "file_extension": ".py",
   "mimetype": "text/x-python",
   "name": "python",
   "nbconvert_exporter": "python",
   "pygments_lexer": "ipython3",
   "version": "3.5.2"
  }
 },
 "nbformat": 4,
 "nbformat_minor": 2
}
