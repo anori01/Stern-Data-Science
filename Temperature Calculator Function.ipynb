{
 "cells": [
  {
   "cell_type": "markdown",
   "metadata": {},
   "source": [
    "Write a function to convert temperature from Celsius to Farenheit scale. The conversion from Celsius to Farenheit is: Multiply by 9, then divide by 5, then add 32."
   ]
  },
  {
   "cell_type": "code",
   "execution_count": 1,
   "metadata": {},
   "outputs": [
    {
     "data": {
      "text/plain": [
       "57.2"
      ]
     },
     "execution_count": 1,
     "metadata": {},
     "output_type": "execute_result"
    }
   ],
   "source": [
    "def celsius_to_farenheit(c):\n",
    "    f = c * 9 / 5 +32\n",
    "    return f\n",
    "\n",
    "celsius_to_farenheit(14)"
   ]
  },
  {
   "cell_type": "code",
   "execution_count": 3,
   "metadata": {},
   "outputs": [
    {
     "name": "stdout",
     "output_type": "stream",
     "text": [
      "For Celsius temperature of -20 the Farenheit value is -4.0\n",
      "For Celsius temperature of -15 the Farenheit value is 5.0\n",
      "For Celsius temperature of -10 the Farenheit value is 14.0\n",
      "For Celsius temperature of -5 the Farenheit value is 23.0\n",
      "For Celsius temperature of 0 the Farenheit value is 32.0\n",
      "For Celsius temperature of 5 the Farenheit value is 41.0\n",
      "For Celsius temperature of 10 the Farenheit value is 50.0\n",
      "For Celsius temperature of 15 the Farenheit value is 59.0\n",
      "For Celsius temperature of 20 the Farenheit value is 68.0\n",
      "For Celsius temperature of 25 the Farenheit value is 77.0\n",
      "For Celsius temperature of 30 the Farenheit value is 86.0\n",
      "For Celsius temperature of 35 the Farenheit value is 95.0\n",
      "For Celsius temperature of 40 the Farenheit value is 104.0\n",
      "For Celsius temperature of 45 the Farenheit value is 113.0\n"
     ]
    }
   ],
   "source": [
    "for num in range(-20, 50 , 5):\n",
    "    celsius_to_farenheit(num)\n",
    "    print(\"For Celsius temperature of\" , num , \"the Farenheit value is\" , celsius_to_farenheit(num))"
   ]
  }
 ],
 "metadata": {
  "kernelspec": {
   "display_name": "Python 3",
   "language": "python",
   "name": "python3"
  },
  "language_info": {
   "codemirror_mode": {
    "name": "ipython",
    "version": 3
   },
   "file_extension": ".py",
   "mimetype": "text/x-python",
   "name": "python",
   "nbconvert_exporter": "python",
   "pygments_lexer": "ipython3",
   "version": "3.5.2"
  }
 },
 "nbformat": 4,
 "nbformat_minor": 2
}
