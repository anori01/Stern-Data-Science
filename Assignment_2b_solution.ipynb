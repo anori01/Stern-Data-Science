{
 "cells": [
  {
   "cell_type": "markdown",
   "metadata": {},
   "source": [
    "### Assignment 2b: If-else statements, For loops, Functions"
   ]
  },
  {
   "cell_type": "markdown",
   "metadata": {},
   "source": [
    "#### A. Voting Eligibility (5pts)\n",
    "\n",
    "You need to be above 18 and a US Citizen, to be able to vote. You also need to be registered. Write the conditional expression that checks for these conditions and prints out whether the person can vote. If the person cannot vote, the code should print out the reason (below 18, or not a US citizen, or not registered, or a combination thereof).\n"
   ]
  },
  {
   "cell_type": "code",
   "execution_count": 1,
   "metadata": {
    "collapsed": false
   },
   "outputs": [
    {
     "name": "stdout",
     "output_type": "stream",
     "text": [
      "You are a US citizen but you are below 18, you cannot vote yet\n"
     ]
    }
   ],
   "source": [
    "age = 17\n",
    "citizen = True\n",
    "registered = True\n",
    "\n",
    "if not citizen:\n",
    "    print(\"You are not a US citizen, therefore you cannot vote, independently of age and registration status\")\n",
    "elif age<18: # The person is a citizen, we check for age\n",
    "    print(\"You are a US citizen but you are below 18, you cannot vote yet\")\n",
    "elif not registered: # The person is a citizen and above 18, we check for registration\n",
    "    print(\"You are a US citizen and 18 or above, but you are not registered, so you cannot vote\")\n",
    "else:\n",
    "    print(\"You can vote\")\n",
    "    "
   ]
  },
  {
   "cell_type": "markdown",
   "metadata": {},
   "source": [
    "#### B. Pay Rate (5pts)\n",
    "\n",
    "A worker gets paid an hourly wage, when working up to 40 hours per week. When the time at work goes above 40 hours in a week, the worker is being paid overtime rate, which is 1.5 times the hourly wage. Given the hours worked per week, and the hourly wage, compute the weekly salary of the worker."
   ]
  },
  {
   "cell_type": "code",
   "execution_count": 2,
   "metadata": {
    "collapsed": false
   },
   "outputs": [
    {
     "name": "stdout",
     "output_type": "stream",
     "text": [
      "The weekly salary is $1375.0\n"
     ]
    }
   ],
   "source": [
    "hourly_wage = 25.0\n",
    "hours_per_week = 50\n",
    "\n",
    "if hours_per_week<=40:\n",
    "    weekly_salary = hours_per_week*hourly_wage\n",
    "else:\n",
    "    weekly_salary = 40*hourly_wage+(hours_per_week-40)*1.5*hourly_wage\n",
    "\n",
    "print(\"The weekly salary is ${s}\".format(s=weekly_salary))"
   ]
  },
  {
   "cell_type": "markdown",
   "metadata": {},
   "source": [
    "#### C. Course grade (5pts)\n",
    "\n",
    "Write a program to prompt for a score between 0.0 and 1.0. If the\n",
    "score is out of range, print an error message. If the score is between 0.0 and 1.0,\n",
    "print a grade using the following table:\n",
    "\n",
    "```\n",
    "Score   Grade\n",
    ">1      Error: Too big\n",
    ">=0.9   A\n",
    ">=0.8   B\n",
    ">=0.7   C\n",
    ">=0.6   D\n",
    "<0.6    F\n",
    "<0      Error: Too small\n",
    "```"
   ]
  },
  {
   "cell_type": "code",
   "execution_count": 3,
   "metadata": {
    "collapsed": false
   },
   "outputs": [
    {
     "name": "stdout",
     "output_type": "stream",
     "text": [
      "Grade? 0.95\n",
      "A\n"
     ]
    }
   ],
   "source": [
    "grade = float(input(\"Grade? \"))\n",
    "if grade>1:\n",
    "    print(\"Error: Too big\")\n",
    "elif grade<0:\n",
    "    print(\"Error: Too small\")\n",
    "elif grade>=0.9:\n",
    "    print(\"A\")\n",
    "elif grade>=0.8:\n",
    "    print(\"B\")\n",
    "elif grade>=0.7:\n",
    "    print(\"C\")\n",
    "elif grade>=0.6:\n",
    "    print(\"D\")\n",
    "elif grade<0.6:\n",
    "    print(\"F\")"
   ]
  },
  {
   "cell_type": "markdown",
   "metadata": {},
   "source": [
    "#### D. Restaurant Meal Price (15 pts)"
   ]
  },
  {
   "cell_type": "markdown",
   "metadata": {},
   "source": [
    "_Part 1_. Write code that computes the total price of the meal in a restaurant. You know that:\n",
    "\n",
    "* The price of the food is $15. \n",
    "* The NY State Tax rate is 8.875%. \n",
    "* The tipping percentage is 18% of the the overall cost of the meal (including tax).\n",
    "\n",
    "Use Python variables to perform the computation."
   ]
  },
  {
   "cell_type": "code",
   "execution_count": 4,
   "metadata": {
    "collapsed": false
   },
   "outputs": [
    {
     "name": "stdout",
     "output_type": "stream",
     "text": [
      "Meal Cost: $19.27\n"
     ]
    }
   ],
   "source": [
    "price = 15\n",
    "tax = 8.875/100\n",
    "tip = 18/100\n",
    "meal_cost = price\n",
    "meal_cost = meal_cost * (1+tax)\n",
    "meal_cost = meal_cost * (1+tip)\n",
    "print(\"Meal Cost: ${c:.2f}\".format(c=meal_cost))"
   ]
  },
  {
   "cell_type": "markdown",
   "metadata": {},
   "source": [
    "_Part 2_. Write a **function** that computes the total price of the meal in a restaurant. The function takes as input the food price, the sales tax rate, and the tip percentage.\n"
   ]
  },
  {
   "cell_type": "code",
   "execution_count": 5,
   "metadata": {
    "collapsed": false
   },
   "outputs": [],
   "source": [
    "def meal_price(price, tax, tip):\n",
    "    meal_cost = price\n",
    "    meal_cost = meal_cost * (1+tax)\n",
    "    meal_cost = meal_cost * (1+tip)\n",
    "    return meal_cost"
   ]
  },
  {
   "cell_type": "code",
   "execution_count": 6,
   "metadata": {
    "collapsed": false
   },
   "outputs": [
    {
     "name": "stdout",
     "output_type": "stream",
     "text": [
      "Meal Cost: $19.27\n"
     ]
    }
   ],
   "source": [
    "price = 15\n",
    "tax = 8.875/100\n",
    "tip = 18/100\n",
    "meal_cost = meal_price(price, tax, tip)\n",
    "print(\"Meal Cost: ${c:.2f}\".format(c=meal_cost))"
   ]
  },
  {
   "cell_type": "markdown",
   "metadata": {},
   "source": [
    "_Part 3_. Write a for loop that computes the total price of a meal, for different tipping rates, starting from 15% and ending at 25% (both inclusive) at 1% increments. Use the function from Part 2 as part of the loop."
   ]
  },
  {
   "cell_type": "code",
   "execution_count": 7,
   "metadata": {
    "collapsed": false
   },
   "outputs": [
    {
     "name": "stdout",
     "output_type": "stream",
     "text": [
      "Meal Cost with 15% tip: $18.78\n",
      "Meal Cost with 16% tip: $18.94\n",
      "Meal Cost with 17% tip: $19.11\n",
      "Meal Cost with 18% tip: $19.27\n",
      "Meal Cost with 19% tip: $19.43\n",
      "Meal Cost with 20% tip: $19.60\n",
      "Meal Cost with 21% tip: $19.76\n",
      "Meal Cost with 22% tip: $19.92\n",
      "Meal Cost with 23% tip: $20.09\n",
      "Meal Cost with 24% tip: $20.25\n",
      "Meal Cost with 25% tip: $20.41\n"
     ]
    }
   ],
   "source": [
    "for tip in range (15,26):\n",
    "    tip = tip/100\n",
    "    meal_cost = meal_price(price, tax, tip)\n",
    "    print(\"Meal Cost with {t:2.0%} tip: ${c:.2f}\".format(t=tip, c=meal_cost))"
   ]
  },
  {
   "cell_type": "markdown",
   "metadata": {},
   "source": [
    "_Part 4._ Below you will find a dictionary with the tax rates for different states, expressed in percentiles. Iterate through all states and print the value of a meal, where the pre-tax food price is $20; show the prices for tip percentages of 15%, 20%, and 25%."
   ]
  },
  {
   "cell_type": "code",
   "execution_count": 8,
   "metadata": {
    "collapsed": false
   },
   "outputs": [],
   "source": [
    "tax = {\n",
    "    \"Alabama\": 13.50,\n",
    "    \"Alaska\": 7,\n",
    "    \"Arizona\": 10.73,\n",
    "    \"Arkansas\": 11.63,\n",
    "    \"California\": 10,\n",
    "    \"Colorado\": 10,\n",
    "    \"Connecticut\": 6.35,\n",
    "    \"Delaware\": 0,\n",
    "    \"District of Columbia\": 5.75,\n",
    "    \"Florida\": 7.50,\n",
    "    \"Georgia\": 8,\n",
    "    \"Hawaii\": 4.50,\n",
    "    \"Idaho\": 8.50,\n",
    "    \"Illinois\": 9.75,\n",
    "    \"Indiana\": 7,\n",
    "    \"Iowa\": 7,\n",
    "    \"Kansas\": 9.65,\n",
    "    \"Kentucky\": 6,\n",
    "    \"Louisiana\": 11,\n",
    "    \"Maine\": 5.50,\n",
    "    \"Maryland\": 6,\n",
    "    \"Massachusetts\": 6.25,\n",
    "    \"Michigan\": 6,\n",
    "    \"Minnesota\": 7.88,\n",
    "    \"Mississippi\": 7.25,\n",
    "    \"Missouri\": 9.35,\n",
    "    \"Montana\": 0,\n",
    "    \"Nebraska\": 7.50,\n",
    "    \"Nevada\": 8.10,\n",
    "    \"New Hampshire\": 0,\n",
    "    \"New Jersey\": 7,\n",
    "    \"New Mexico\": 8.69,\n",
    "    \"New York\": 8.88,\n",
    "    \"North Carolina\": 7.50,\n",
    "    \"North Dakota\": 8,\n",
    "    \"Ohio\": 8,\n",
    "    \"Oklahoma\": 11,\n",
    "    \"Oregon\": 0,\n",
    "    \"Pennsylvania\": 8,\n",
    "    \"Rhode Island\": 7,\n",
    "    \"South Carolina\": 9,\n",
    "    \"South Dakota\": 6,\n",
    "    \"Tennessee\": 9.75,\n",
    "    \"Texas\": 8.25,\n",
    "    \"Utah\": 8.35,\n",
    "    \"Vermont\": 7,\n",
    "    \"Virginia\": 6,\n",
    "    \"Washington\": 9.60,\n",
    "    \"West Virginia\": 7,\n",
    "    \"Wisconsin\": 5.60,\n",
    "    \"Wyoming\": 6,\n",
    "}"
   ]
  },
  {
   "cell_type": "code",
   "execution_count": 9,
   "metadata": {
    "collapsed": false
   },
   "outputs": [
    {
     "name": "stdout",
     "output_type": "stream",
     "text": [
      "Meal Cost in Alabama (13.50% tax) with 15% tip: $19.58\n",
      "Meal Cost in Alabama (13.50% tax) with 20% tip: $20.43\n",
      "Meal Cost in Alabama (13.50% tax) with 25% tip: $21.28\n",
      "-----\n",
      "Meal Cost in Alaska (7.00% tax) with 15% tip: $18.46\n",
      "Meal Cost in Alaska (7.00% tax) with 20% tip: $19.26\n",
      "Meal Cost in Alaska (7.00% tax) with 25% tip: $20.06\n",
      "-----\n",
      "Meal Cost in Arizona (10.73% tax) with 15% tip: $19.10\n",
      "Meal Cost in Arizona (10.73% tax) with 20% tip: $19.93\n",
      "Meal Cost in Arizona (10.73% tax) with 25% tip: $20.76\n",
      "-----\n",
      "Meal Cost in Arkansas (11.63% tax) with 15% tip: $19.26\n",
      "Meal Cost in Arkansas (11.63% tax) with 20% tip: $20.09\n",
      "Meal Cost in Arkansas (11.63% tax) with 25% tip: $20.93\n",
      "-----\n",
      "Meal Cost in California (10.00% tax) with 15% tip: $18.97\n",
      "Meal Cost in California (10.00% tax) with 20% tip: $19.80\n",
      "Meal Cost in California (10.00% tax) with 25% tip: $20.62\n",
      "-----\n",
      "Meal Cost in Colorado (10.00% tax) with 15% tip: $18.97\n",
      "Meal Cost in Colorado (10.00% tax) with 20% tip: $19.80\n",
      "Meal Cost in Colorado (10.00% tax) with 25% tip: $20.62\n",
      "-----\n",
      "Meal Cost in Connecticut (6.35% tax) with 15% tip: $18.35\n",
      "Meal Cost in Connecticut (6.35% tax) with 20% tip: $19.14\n",
      "Meal Cost in Connecticut (6.35% tax) with 25% tip: $19.94\n",
      "-----\n",
      "Meal Cost in Delaware (0.00% tax) with 15% tip: $17.25\n",
      "Meal Cost in Delaware (0.00% tax) with 20% tip: $18.00\n",
      "Meal Cost in Delaware (0.00% tax) with 25% tip: $18.75\n",
      "-----\n",
      "Meal Cost in District of Columbia (5.75% tax) with 15% tip: $18.24\n",
      "Meal Cost in District of Columbia (5.75% tax) with 20% tip: $19.04\n",
      "Meal Cost in District of Columbia (5.75% tax) with 25% tip: $19.83\n",
      "-----\n",
      "Meal Cost in Florida (7.50% tax) with 15% tip: $18.54\n",
      "Meal Cost in Florida (7.50% tax) with 20% tip: $19.35\n",
      "Meal Cost in Florida (7.50% tax) with 25% tip: $20.16\n",
      "-----\n",
      "Meal Cost in Georgia (8.00% tax) with 15% tip: $18.63\n",
      "Meal Cost in Georgia (8.00% tax) with 20% tip: $19.44\n",
      "Meal Cost in Georgia (8.00% tax) with 25% tip: $20.25\n",
      "-----\n",
      "Meal Cost in Hawaii (4.50% tax) with 15% tip: $18.03\n",
      "Meal Cost in Hawaii (4.50% tax) with 20% tip: $18.81\n",
      "Meal Cost in Hawaii (4.50% tax) with 25% tip: $19.59\n",
      "-----\n",
      "Meal Cost in Idaho (8.50% tax) with 15% tip: $18.72\n",
      "Meal Cost in Idaho (8.50% tax) with 20% tip: $19.53\n",
      "Meal Cost in Idaho (8.50% tax) with 25% tip: $20.34\n",
      "-----\n",
      "Meal Cost in Illinois (9.75% tax) with 15% tip: $18.93\n",
      "Meal Cost in Illinois (9.75% tax) with 20% tip: $19.75\n",
      "Meal Cost in Illinois (9.75% tax) with 25% tip: $20.58\n",
      "-----\n",
      "Meal Cost in Indiana (7.00% tax) with 15% tip: $18.46\n",
      "Meal Cost in Indiana (7.00% tax) with 20% tip: $19.26\n",
      "Meal Cost in Indiana (7.00% tax) with 25% tip: $20.06\n",
      "-----\n",
      "Meal Cost in Iowa (7.00% tax) with 15% tip: $18.46\n",
      "Meal Cost in Iowa (7.00% tax) with 20% tip: $19.26\n",
      "Meal Cost in Iowa (7.00% tax) with 25% tip: $20.06\n",
      "-----\n",
      "Meal Cost in Kansas (9.65% tax) with 15% tip: $18.91\n",
      "Meal Cost in Kansas (9.65% tax) with 20% tip: $19.74\n",
      "Meal Cost in Kansas (9.65% tax) with 25% tip: $20.56\n",
      "-----\n",
      "Meal Cost in Kentucky (6.00% tax) with 15% tip: $18.29\n",
      "Meal Cost in Kentucky (6.00% tax) with 20% tip: $19.08\n",
      "Meal Cost in Kentucky (6.00% tax) with 25% tip: $19.88\n",
      "-----\n",
      "Meal Cost in Louisiana (11.00% tax) with 15% tip: $19.15\n",
      "Meal Cost in Louisiana (11.00% tax) with 20% tip: $19.98\n",
      "Meal Cost in Louisiana (11.00% tax) with 25% tip: $20.81\n",
      "-----\n",
      "Meal Cost in Maine (5.50% tax) with 15% tip: $18.20\n",
      "Meal Cost in Maine (5.50% tax) with 20% tip: $18.99\n",
      "Meal Cost in Maine (5.50% tax) with 25% tip: $19.78\n",
      "-----\n",
      "Meal Cost in Maryland (6.00% tax) with 15% tip: $18.29\n",
      "Meal Cost in Maryland (6.00% tax) with 20% tip: $19.08\n",
      "Meal Cost in Maryland (6.00% tax) with 25% tip: $19.88\n",
      "-----\n",
      "Meal Cost in Massachusetts (6.25% tax) with 15% tip: $18.33\n",
      "Meal Cost in Massachusetts (6.25% tax) with 20% tip: $19.12\n",
      "Meal Cost in Massachusetts (6.25% tax) with 25% tip: $19.92\n",
      "-----\n",
      "Meal Cost in Michigan (6.00% tax) with 15% tip: $18.29\n",
      "Meal Cost in Michigan (6.00% tax) with 20% tip: $19.08\n",
      "Meal Cost in Michigan (6.00% tax) with 25% tip: $19.88\n",
      "-----\n",
      "Meal Cost in Minnesota (7.88% tax) with 15% tip: $18.61\n",
      "Meal Cost in Minnesota (7.88% tax) with 20% tip: $19.42\n",
      "Meal Cost in Minnesota (7.88% tax) with 25% tip: $20.23\n",
      "-----\n",
      "Meal Cost in Mississippi (7.25% tax) with 15% tip: $18.50\n",
      "Meal Cost in Mississippi (7.25% tax) with 20% tip: $19.30\n",
      "Meal Cost in Mississippi (7.25% tax) with 25% tip: $20.11\n",
      "-----\n",
      "Meal Cost in Missouri (9.35% tax) with 15% tip: $18.86\n",
      "Meal Cost in Missouri (9.35% tax) with 20% tip: $19.68\n",
      "Meal Cost in Missouri (9.35% tax) with 25% tip: $20.50\n",
      "-----\n",
      "Meal Cost in Montana (0.00% tax) with 15% tip: $17.25\n",
      "Meal Cost in Montana (0.00% tax) with 20% tip: $18.00\n",
      "Meal Cost in Montana (0.00% tax) with 25% tip: $18.75\n",
      "-----\n",
      "Meal Cost in Nebraska (7.50% tax) with 15% tip: $18.54\n",
      "Meal Cost in Nebraska (7.50% tax) with 20% tip: $19.35\n",
      "Meal Cost in Nebraska (7.50% tax) with 25% tip: $20.16\n",
      "-----\n",
      "Meal Cost in Nevada (8.10% tax) with 15% tip: $18.65\n",
      "Meal Cost in Nevada (8.10% tax) with 20% tip: $19.46\n",
      "Meal Cost in Nevada (8.10% tax) with 25% tip: $20.27\n",
      "-----\n",
      "Meal Cost in New Hampshire (0.00% tax) with 15% tip: $17.25\n",
      "Meal Cost in New Hampshire (0.00% tax) with 20% tip: $18.00\n",
      "Meal Cost in New Hampshire (0.00% tax) with 25% tip: $18.75\n",
      "-----\n",
      "Meal Cost in New Jersey (7.00% tax) with 15% tip: $18.46\n",
      "Meal Cost in New Jersey (7.00% tax) with 20% tip: $19.26\n",
      "Meal Cost in New Jersey (7.00% tax) with 25% tip: $20.06\n",
      "-----\n",
      "Meal Cost in New Mexico (8.69% tax) with 15% tip: $18.75\n",
      "Meal Cost in New Mexico (8.69% tax) with 20% tip: $19.56\n",
      "Meal Cost in New Mexico (8.69% tax) with 25% tip: $20.38\n",
      "-----\n",
      "Meal Cost in New York (8.88% tax) with 15% tip: $18.78\n",
      "Meal Cost in New York (8.88% tax) with 20% tip: $19.60\n",
      "Meal Cost in New York (8.88% tax) with 25% tip: $20.41\n",
      "-----\n",
      "Meal Cost in North Carolina (7.50% tax) with 15% tip: $18.54\n",
      "Meal Cost in North Carolina (7.50% tax) with 20% tip: $19.35\n",
      "Meal Cost in North Carolina (7.50% tax) with 25% tip: $20.16\n",
      "-----\n",
      "Meal Cost in North Dakota (8.00% tax) with 15% tip: $18.63\n",
      "Meal Cost in North Dakota (8.00% tax) with 20% tip: $19.44\n",
      "Meal Cost in North Dakota (8.00% tax) with 25% tip: $20.25\n",
      "-----\n",
      "Meal Cost in Ohio (8.00% tax) with 15% tip: $18.63\n",
      "Meal Cost in Ohio (8.00% tax) with 20% tip: $19.44\n",
      "Meal Cost in Ohio (8.00% tax) with 25% tip: $20.25\n",
      "-----\n",
      "Meal Cost in Oklahoma (11.00% tax) with 15% tip: $19.15\n",
      "Meal Cost in Oklahoma (11.00% tax) with 20% tip: $19.98\n",
      "Meal Cost in Oklahoma (11.00% tax) with 25% tip: $20.81\n",
      "-----\n",
      "Meal Cost in Oregon (0.00% tax) with 15% tip: $17.25\n",
      "Meal Cost in Oregon (0.00% tax) with 20% tip: $18.00\n",
      "Meal Cost in Oregon (0.00% tax) with 25% tip: $18.75\n",
      "-----\n",
      "Meal Cost in Pennsylvania (8.00% tax) with 15% tip: $18.63\n",
      "Meal Cost in Pennsylvania (8.00% tax) with 20% tip: $19.44\n",
      "Meal Cost in Pennsylvania (8.00% tax) with 25% tip: $20.25\n",
      "-----\n",
      "Meal Cost in Rhode Island (7.00% tax) with 15% tip: $18.46\n",
      "Meal Cost in Rhode Island (7.00% tax) with 20% tip: $19.26\n",
      "Meal Cost in Rhode Island (7.00% tax) with 25% tip: $20.06\n",
      "-----\n",
      "Meal Cost in South Carolina (9.00% tax) with 15% tip: $18.80\n",
      "Meal Cost in South Carolina (9.00% tax) with 20% tip: $19.62\n",
      "Meal Cost in South Carolina (9.00% tax) with 25% tip: $20.44\n",
      "-----\n",
      "Meal Cost in South Dakota (6.00% tax) with 15% tip: $18.29\n",
      "Meal Cost in South Dakota (6.00% tax) with 20% tip: $19.08\n",
      "Meal Cost in South Dakota (6.00% tax) with 25% tip: $19.88\n",
      "-----\n",
      "Meal Cost in Tennessee (9.75% tax) with 15% tip: $18.93\n",
      "Meal Cost in Tennessee (9.75% tax) with 20% tip: $19.75\n",
      "Meal Cost in Tennessee (9.75% tax) with 25% tip: $20.58\n",
      "-----\n",
      "Meal Cost in Texas (8.25% tax) with 15% tip: $18.67\n",
      "Meal Cost in Texas (8.25% tax) with 20% tip: $19.48\n",
      "Meal Cost in Texas (8.25% tax) with 25% tip: $20.30\n",
      "-----\n",
      "Meal Cost in Utah (8.35% tax) with 15% tip: $18.69\n",
      "Meal Cost in Utah (8.35% tax) with 20% tip: $19.50\n",
      "Meal Cost in Utah (8.35% tax) with 25% tip: $20.32\n",
      "-----\n",
      "Meal Cost in Vermont (7.00% tax) with 15% tip: $18.46\n",
      "Meal Cost in Vermont (7.00% tax) with 20% tip: $19.26\n",
      "Meal Cost in Vermont (7.00% tax) with 25% tip: $20.06\n",
      "-----\n",
      "Meal Cost in Virginia (6.00% tax) with 15% tip: $18.29\n",
      "Meal Cost in Virginia (6.00% tax) with 20% tip: $19.08\n",
      "Meal Cost in Virginia (6.00% tax) with 25% tip: $19.88\n",
      "-----\n",
      "Meal Cost in Washington (9.60% tax) with 15% tip: $18.91\n",
      "Meal Cost in Washington (9.60% tax) with 20% tip: $19.73\n",
      "Meal Cost in Washington (9.60% tax) with 25% tip: $20.55\n",
      "-----\n",
      "Meal Cost in West Virginia (7.00% tax) with 15% tip: $18.46\n",
      "Meal Cost in West Virginia (7.00% tax) with 20% tip: $19.26\n",
      "Meal Cost in West Virginia (7.00% tax) with 25% tip: $20.06\n",
      "-----\n",
      "Meal Cost in Wisconsin (5.60% tax) with 15% tip: $18.22\n",
      "Meal Cost in Wisconsin (5.60% tax) with 20% tip: $19.01\n",
      "Meal Cost in Wisconsin (5.60% tax) with 25% tip: $19.80\n",
      "-----\n",
      "Meal Cost in Wyoming (6.00% tax) with 15% tip: $18.29\n",
      "Meal Cost in Wyoming (6.00% tax) with 20% tip: $19.08\n",
      "Meal Cost in Wyoming (6.00% tax) with 25% tip: $19.88\n",
      "-----\n"
     ]
    }
   ],
   "source": [
    "# Solution where we iterate through key,value pairs. \n",
    "# The sorted() part is optional, and just ensures that we list states alphabetically\n",
    "for (state, tax_rate) in sorted(tax.items()):\n",
    "    tax_rate = tax_rate/100\n",
    "    for tip in [0.15, 0.20, 0.25]:\n",
    "        meal_cost = meal_price(price, tax_rate, tip)\n",
    "        print(\"Meal Cost in {s} ({x:4.2%} tax) with {t:2.0%} tip: ${c:.2f}\"\n",
    "              .format(s=state, t=tip, x=tax_rate, c=meal_cost))\n",
    "    print(\"-----\")"
   ]
  },
  {
   "cell_type": "code",
   "execution_count": 10,
   "metadata": {
    "collapsed": false
   },
   "outputs": [
    {
     "name": "stdout",
     "output_type": "stream",
     "text": [
      "Meal Cost in Alabama (13.50% tax) with 15% tip: $19.58\n",
      "Meal Cost in Alabama (13.50% tax) with 20% tip: $20.43\n",
      "Meal Cost in Alabama (13.50% tax) with 25% tip: $21.28\n",
      "-----\n",
      "Meal Cost in Alaska (7.00% tax) with 15% tip: $18.46\n",
      "Meal Cost in Alaska (7.00% tax) with 20% tip: $19.26\n",
      "Meal Cost in Alaska (7.00% tax) with 25% tip: $20.06\n",
      "-----\n",
      "Meal Cost in Arizona (10.73% tax) with 15% tip: $19.10\n",
      "Meal Cost in Arizona (10.73% tax) with 20% tip: $19.93\n",
      "Meal Cost in Arizona (10.73% tax) with 25% tip: $20.76\n",
      "-----\n",
      "Meal Cost in Arkansas (11.63% tax) with 15% tip: $19.26\n",
      "Meal Cost in Arkansas (11.63% tax) with 20% tip: $20.09\n",
      "Meal Cost in Arkansas (11.63% tax) with 25% tip: $20.93\n",
      "-----\n",
      "Meal Cost in California (10.00% tax) with 15% tip: $18.97\n",
      "Meal Cost in California (10.00% tax) with 20% tip: $19.80\n",
      "Meal Cost in California (10.00% tax) with 25% tip: $20.62\n",
      "-----\n",
      "Meal Cost in Colorado (10.00% tax) with 15% tip: $18.97\n",
      "Meal Cost in Colorado (10.00% tax) with 20% tip: $19.80\n",
      "Meal Cost in Colorado (10.00% tax) with 25% tip: $20.62\n",
      "-----\n",
      "Meal Cost in Connecticut (6.35% tax) with 15% tip: $18.35\n",
      "Meal Cost in Connecticut (6.35% tax) with 20% tip: $19.14\n",
      "Meal Cost in Connecticut (6.35% tax) with 25% tip: $19.94\n",
      "-----\n",
      "Meal Cost in Delaware (0.00% tax) with 15% tip: $17.25\n",
      "Meal Cost in Delaware (0.00% tax) with 20% tip: $18.00\n",
      "Meal Cost in Delaware (0.00% tax) with 25% tip: $18.75\n",
      "-----\n",
      "Meal Cost in District of Columbia (5.75% tax) with 15% tip: $18.24\n",
      "Meal Cost in District of Columbia (5.75% tax) with 20% tip: $19.04\n",
      "Meal Cost in District of Columbia (5.75% tax) with 25% tip: $19.83\n",
      "-----\n",
      "Meal Cost in Florida (7.50% tax) with 15% tip: $18.54\n",
      "Meal Cost in Florida (7.50% tax) with 20% tip: $19.35\n",
      "Meal Cost in Florida (7.50% tax) with 25% tip: $20.16\n",
      "-----\n",
      "Meal Cost in Georgia (8.00% tax) with 15% tip: $18.63\n",
      "Meal Cost in Georgia (8.00% tax) with 20% tip: $19.44\n",
      "Meal Cost in Georgia (8.00% tax) with 25% tip: $20.25\n",
      "-----\n",
      "Meal Cost in Hawaii (4.50% tax) with 15% tip: $18.03\n",
      "Meal Cost in Hawaii (4.50% tax) with 20% tip: $18.81\n",
      "Meal Cost in Hawaii (4.50% tax) with 25% tip: $19.59\n",
      "-----\n",
      "Meal Cost in Idaho (8.50% tax) with 15% tip: $18.72\n",
      "Meal Cost in Idaho (8.50% tax) with 20% tip: $19.53\n",
      "Meal Cost in Idaho (8.50% tax) with 25% tip: $20.34\n",
      "-----\n",
      "Meal Cost in Illinois (9.75% tax) with 15% tip: $18.93\n",
      "Meal Cost in Illinois (9.75% tax) with 20% tip: $19.75\n",
      "Meal Cost in Illinois (9.75% tax) with 25% tip: $20.58\n",
      "-----\n",
      "Meal Cost in Indiana (7.00% tax) with 15% tip: $18.46\n",
      "Meal Cost in Indiana (7.00% tax) with 20% tip: $19.26\n",
      "Meal Cost in Indiana (7.00% tax) with 25% tip: $20.06\n",
      "-----\n",
      "Meal Cost in Iowa (7.00% tax) with 15% tip: $18.46\n",
      "Meal Cost in Iowa (7.00% tax) with 20% tip: $19.26\n",
      "Meal Cost in Iowa (7.00% tax) with 25% tip: $20.06\n",
      "-----\n",
      "Meal Cost in Kansas (9.65% tax) with 15% tip: $18.91\n",
      "Meal Cost in Kansas (9.65% tax) with 20% tip: $19.74\n",
      "Meal Cost in Kansas (9.65% tax) with 25% tip: $20.56\n",
      "-----\n",
      "Meal Cost in Kentucky (6.00% tax) with 15% tip: $18.29\n",
      "Meal Cost in Kentucky (6.00% tax) with 20% tip: $19.08\n",
      "Meal Cost in Kentucky (6.00% tax) with 25% tip: $19.88\n",
      "-----\n",
      "Meal Cost in Louisiana (11.00% tax) with 15% tip: $19.15\n",
      "Meal Cost in Louisiana (11.00% tax) with 20% tip: $19.98\n",
      "Meal Cost in Louisiana (11.00% tax) with 25% tip: $20.81\n",
      "-----\n",
      "Meal Cost in Maine (5.50% tax) with 15% tip: $18.20\n",
      "Meal Cost in Maine (5.50% tax) with 20% tip: $18.99\n",
      "Meal Cost in Maine (5.50% tax) with 25% tip: $19.78\n",
      "-----\n",
      "Meal Cost in Maryland (6.00% tax) with 15% tip: $18.29\n",
      "Meal Cost in Maryland (6.00% tax) with 20% tip: $19.08\n",
      "Meal Cost in Maryland (6.00% tax) with 25% tip: $19.88\n",
      "-----\n",
      "Meal Cost in Massachusetts (6.25% tax) with 15% tip: $18.33\n",
      "Meal Cost in Massachusetts (6.25% tax) with 20% tip: $19.12\n",
      "Meal Cost in Massachusetts (6.25% tax) with 25% tip: $19.92\n",
      "-----\n",
      "Meal Cost in Michigan (6.00% tax) with 15% tip: $18.29\n",
      "Meal Cost in Michigan (6.00% tax) with 20% tip: $19.08\n",
      "Meal Cost in Michigan (6.00% tax) with 25% tip: $19.88\n",
      "-----\n",
      "Meal Cost in Minnesota (7.88% tax) with 15% tip: $18.61\n",
      "Meal Cost in Minnesota (7.88% tax) with 20% tip: $19.42\n",
      "Meal Cost in Minnesota (7.88% tax) with 25% tip: $20.23\n",
      "-----\n",
      "Meal Cost in Mississippi (7.25% tax) with 15% tip: $18.50\n",
      "Meal Cost in Mississippi (7.25% tax) with 20% tip: $19.30\n",
      "Meal Cost in Mississippi (7.25% tax) with 25% tip: $20.11\n",
      "-----\n",
      "Meal Cost in Missouri (9.35% tax) with 15% tip: $18.86\n",
      "Meal Cost in Missouri (9.35% tax) with 20% tip: $19.68\n",
      "Meal Cost in Missouri (9.35% tax) with 25% tip: $20.50\n",
      "-----\n",
      "Meal Cost in Montana (0.00% tax) with 15% tip: $17.25\n",
      "Meal Cost in Montana (0.00% tax) with 20% tip: $18.00\n",
      "Meal Cost in Montana (0.00% tax) with 25% tip: $18.75\n",
      "-----\n",
      "Meal Cost in Nebraska (7.50% tax) with 15% tip: $18.54\n",
      "Meal Cost in Nebraska (7.50% tax) with 20% tip: $19.35\n",
      "Meal Cost in Nebraska (7.50% tax) with 25% tip: $20.16\n",
      "-----\n",
      "Meal Cost in Nevada (8.10% tax) with 15% tip: $18.65\n",
      "Meal Cost in Nevada (8.10% tax) with 20% tip: $19.46\n",
      "Meal Cost in Nevada (8.10% tax) with 25% tip: $20.27\n",
      "-----\n",
      "Meal Cost in New Hampshire (0.00% tax) with 15% tip: $17.25\n",
      "Meal Cost in New Hampshire (0.00% tax) with 20% tip: $18.00\n",
      "Meal Cost in New Hampshire (0.00% tax) with 25% tip: $18.75\n",
      "-----\n",
      "Meal Cost in New Jersey (7.00% tax) with 15% tip: $18.46\n",
      "Meal Cost in New Jersey (7.00% tax) with 20% tip: $19.26\n",
      "Meal Cost in New Jersey (7.00% tax) with 25% tip: $20.06\n",
      "-----\n",
      "Meal Cost in New Mexico (8.69% tax) with 15% tip: $18.75\n",
      "Meal Cost in New Mexico (8.69% tax) with 20% tip: $19.56\n",
      "Meal Cost in New Mexico (8.69% tax) with 25% tip: $20.38\n",
      "-----\n",
      "Meal Cost in New York (8.88% tax) with 15% tip: $18.78\n",
      "Meal Cost in New York (8.88% tax) with 20% tip: $19.60\n",
      "Meal Cost in New York (8.88% tax) with 25% tip: $20.41\n",
      "-----\n",
      "Meal Cost in North Carolina (7.50% tax) with 15% tip: $18.54\n",
      "Meal Cost in North Carolina (7.50% tax) with 20% tip: $19.35\n",
      "Meal Cost in North Carolina (7.50% tax) with 25% tip: $20.16\n",
      "-----\n",
      "Meal Cost in North Dakota (8.00% tax) with 15% tip: $18.63\n",
      "Meal Cost in North Dakota (8.00% tax) with 20% tip: $19.44\n",
      "Meal Cost in North Dakota (8.00% tax) with 25% tip: $20.25\n",
      "-----\n",
      "Meal Cost in Ohio (8.00% tax) with 15% tip: $18.63\n",
      "Meal Cost in Ohio (8.00% tax) with 20% tip: $19.44\n",
      "Meal Cost in Ohio (8.00% tax) with 25% tip: $20.25\n",
      "-----\n",
      "Meal Cost in Oklahoma (11.00% tax) with 15% tip: $19.15\n",
      "Meal Cost in Oklahoma (11.00% tax) with 20% tip: $19.98\n",
      "Meal Cost in Oklahoma (11.00% tax) with 25% tip: $20.81\n",
      "-----\n",
      "Meal Cost in Oregon (0.00% tax) with 15% tip: $17.25\n",
      "Meal Cost in Oregon (0.00% tax) with 20% tip: $18.00\n",
      "Meal Cost in Oregon (0.00% tax) with 25% tip: $18.75\n",
      "-----\n",
      "Meal Cost in Pennsylvania (8.00% tax) with 15% tip: $18.63\n",
      "Meal Cost in Pennsylvania (8.00% tax) with 20% tip: $19.44\n",
      "Meal Cost in Pennsylvania (8.00% tax) with 25% tip: $20.25\n",
      "-----\n",
      "Meal Cost in Rhode Island (7.00% tax) with 15% tip: $18.46\n",
      "Meal Cost in Rhode Island (7.00% tax) with 20% tip: $19.26\n",
      "Meal Cost in Rhode Island (7.00% tax) with 25% tip: $20.06\n",
      "-----\n",
      "Meal Cost in South Carolina (9.00% tax) with 15% tip: $18.80\n",
      "Meal Cost in South Carolina (9.00% tax) with 20% tip: $19.62\n",
      "Meal Cost in South Carolina (9.00% tax) with 25% tip: $20.44\n",
      "-----\n",
      "Meal Cost in South Dakota (6.00% tax) with 15% tip: $18.29\n",
      "Meal Cost in South Dakota (6.00% tax) with 20% tip: $19.08\n",
      "Meal Cost in South Dakota (6.00% tax) with 25% tip: $19.88\n",
      "-----\n",
      "Meal Cost in Tennessee (9.75% tax) with 15% tip: $18.93\n",
      "Meal Cost in Tennessee (9.75% tax) with 20% tip: $19.75\n",
      "Meal Cost in Tennessee (9.75% tax) with 25% tip: $20.58\n",
      "-----\n",
      "Meal Cost in Texas (8.25% tax) with 15% tip: $18.67\n",
      "Meal Cost in Texas (8.25% tax) with 20% tip: $19.48\n",
      "Meal Cost in Texas (8.25% tax) with 25% tip: $20.30\n",
      "-----\n",
      "Meal Cost in Utah (8.35% tax) with 15% tip: $18.69\n",
      "Meal Cost in Utah (8.35% tax) with 20% tip: $19.50\n",
      "Meal Cost in Utah (8.35% tax) with 25% tip: $20.32\n",
      "-----\n",
      "Meal Cost in Vermont (7.00% tax) with 15% tip: $18.46\n",
      "Meal Cost in Vermont (7.00% tax) with 20% tip: $19.26\n",
      "Meal Cost in Vermont (7.00% tax) with 25% tip: $20.06\n",
      "-----\n",
      "Meal Cost in Virginia (6.00% tax) with 15% tip: $18.29\n",
      "Meal Cost in Virginia (6.00% tax) with 20% tip: $19.08\n",
      "Meal Cost in Virginia (6.00% tax) with 25% tip: $19.88\n",
      "-----\n",
      "Meal Cost in Washington (9.60% tax) with 15% tip: $18.91\n",
      "Meal Cost in Washington (9.60% tax) with 20% tip: $19.73\n",
      "Meal Cost in Washington (9.60% tax) with 25% tip: $20.55\n",
      "-----\n",
      "Meal Cost in West Virginia (7.00% tax) with 15% tip: $18.46\n",
      "Meal Cost in West Virginia (7.00% tax) with 20% tip: $19.26\n",
      "Meal Cost in West Virginia (7.00% tax) with 25% tip: $20.06\n",
      "-----\n",
      "Meal Cost in Wisconsin (5.60% tax) with 15% tip: $18.22\n",
      "Meal Cost in Wisconsin (5.60% tax) with 20% tip: $19.01\n",
      "Meal Cost in Wisconsin (5.60% tax) with 25% tip: $19.80\n",
      "-----\n",
      "Meal Cost in Wyoming (6.00% tax) with 15% tip: $18.29\n",
      "Meal Cost in Wyoming (6.00% tax) with 20% tip: $19.08\n",
      "Meal Cost in Wyoming (6.00% tax) with 25% tip: $19.88\n",
      "-----\n"
     ]
    }
   ],
   "source": [
    "# Alternative solution, iterating through keys first, accessing tax rate within the loop\n",
    "# The sorted() part is optional, and just ensures that we list states alphabetically\n",
    "for state in sorted(tax.keys()):\n",
    "    # we access the value (tax_rate) for the state, and convert into a value from 0..1 (instead of 0..100)\n",
    "    tax_rate = tax[state]/100 \n",
    "    for tip in [0.15, 0.20, 0.25]:\n",
    "        meal_cost = meal_price(price, tax_rate, tip)\n",
    "        print(\"Meal Cost in {s} ({x:4.2%} tax) with {t:2.0%} tip: ${c:.2f}\"\n",
    "              .format(s=state, t=tip, x=tax_rate, c=meal_cost))\n",
    "    print(\"-----\")"
   ]
  },
  {
   "cell_type": "markdown",
   "metadata": {},
   "source": [
    "#### E. Search within a file (5 pts)\n",
    "\n",
    "Read the file `restaurant-names.txt` which is stored under:\n",
    "    `/home/ubuntu/ipynb/NYU_Notes/2-Introduction_to_Python/data/restaurant-names.txt`\n",
    "   and answer the following questions:\n",
    "   * How many restaurants appear in the dataset?\n",
    "   * Print the restaurants that contain the word `GREEK` in their name.\n",
    "   * How many restaurants contain the word `PIZZA` in their name?"
   ]
  },
  {
   "cell_type": "code",
   "execution_count": 11,
   "metadata": {
    "collapsed": false
   },
   "outputs": [],
   "source": [
    "filename = \"/home/ubuntu/ipynb/NYU_Notes/2-Introduction_to_Python/data/restaurant-names.txt\"\n",
    "f = open(filename, 'r')\n",
    "content = f.read()\n",
    "f.close()\n",
    "restaurants = content.split(\"\\n\")"
   ]
  },
  {
   "cell_type": "code",
   "execution_count": 12,
   "metadata": {
    "collapsed": false
   },
   "outputs": [
    {
     "name": "stdout",
     "output_type": "stream",
     "text": [
      "There are 20444 in the dataset\n"
     ]
    }
   ],
   "source": [
    "print(\"There are\", len(restaurants), \"in the dataset\")"
   ]
  },
  {
   "cell_type": "code",
   "execution_count": 13,
   "metadata": {
    "collapsed": false
   },
   "outputs": [
    {
     "name": "stdout",
     "output_type": "stream",
     "text": [
      "ANTHI'S GREEK FOOD\n",
      "AVLEE  GREEK KITCHEN\n",
      "AVLEE GREEK KITCHEN\n",
      "AVLI THE LITTLE GREEK TAVERN\n",
      "ETHOS GREEK CUISINE\n",
      "GREEK EXPRESS\n",
      "GREEK FAMILY KITCHEN\n",
      "GREEK GARDENS GRILL\n",
      "GREEK GRILL\n",
      "GREEK ISLANDS\n",
      "GRK FRESH GREEK\n",
      "GYRO GREEK STYLE\n",
      "MEDITERRANEAN GRILL GREEK TARVERNA\n",
      "OKEANOS GREEK SEAFOOD\n",
      "OPA! GREEK RESTAURANT\n",
      "RAFINA GREEK CUISINE\n",
      "SOMETHING GREEK\n",
      "SYMPOSIUM GREEK RESTAURANT\n",
      "THE GREEK\n",
      "THE GREEK CORNER\n",
      "THE GREEK KITCHEN  CLINTON BAKERY CAFE\n",
      "VILLAGE TAVERNA GREEK GRILL\n",
      "ZENON TAVERNA GREEK RESTAURANT\n"
     ]
    }
   ],
   "source": [
    "contain_greek = [restaurant for restaurant in restaurants if \"GREEK\" in restaurant]\n",
    "for g in contain_greek:\n",
    "    print(g)"
   ]
  },
  {
   "cell_type": "code",
   "execution_count": 14,
   "metadata": {
    "collapsed": false
   },
   "outputs": [
    {
     "name": "stdout",
     "output_type": "stream",
     "text": [
      "There are 963 restaurants that contain PIZZA in their name\n"
     ]
    }
   ],
   "source": [
    "contain_pizza = [restaurant for restaurant in restaurants if \"PIZZA\" in restaurant]\n",
    "print(\"There are\", len(contain_pizza), \"restaurants that contain PIZZA in their name\")"
   ]
  },
  {
   "cell_type": "markdown",
   "metadata": {},
   "source": [
    "#### F.  Road Pricing System (5 pts)\n",
    "\n",
    "The Transport Authority is implementing a new Road Pricing system. The authorities decided that the cars will be charged based on distance travelled, on a per mile basis. A car will be charged \\$0.50/mi, a van \\$2.1/mi and taxis travel for free. Create a function to determine how much a particular vehicle would be charged based on a particular distance. The function should take as input the type of the car and the distance travelled, and return the charged price."
   ]
  },
  {
   "cell_type": "code",
   "execution_count": 15,
   "metadata": {
    "collapsed": false
   },
   "outputs": [],
   "source": [
    "#Solution 1 (we do not perform a check for erroneous car_type or negative distance)\n",
    "def charge(car_type, distance):\n",
    "    if car_type=='taxi':\n",
    "        return 0.0\n",
    "    elif car_type=='car':\n",
    "        return 0.5*distance\n",
    "    elif car_type=='van':\n",
    "        return 2.1*distance"
   ]
  },
  {
   "cell_type": "code",
   "execution_count": 16,
   "metadata": {
    "collapsed": true
   },
   "outputs": [],
   "source": [
    "# Solution 2 (we do not perform a check for erroneous car_type or negative distance)\n",
    "def charge(car_type, distance):\n",
    "    charges = {\n",
    "        'taxi': 0.0,\n",
    "        'car': 0.5,\n",
    "        'van': 2.1\n",
    "    }\n",
    "    return charges[car_type]*distance"
   ]
  },
  {
   "cell_type": "code",
   "execution_count": 17,
   "metadata": {
    "collapsed": false
   },
   "outputs": [
    {
     "name": "stdout",
     "output_type": "stream",
     "text": [
      "Car type: taxi, Distance: 11.08, Charge: $0.00\n"
     ]
    }
   ],
   "source": [
    "# Testing\n",
    "import random\n",
    "car_types = ['car', 'van', 'taxi']\n",
    "car_type = random.choice(car_types)\n",
    "distance = random.uniform(0,20)\n",
    "print(\"Car type: {c}, Distance: {d:.2f}, Charge: ${m:.2f}\"\n",
    "      .format(c=car_type, d=distance, m=charge(car_type, distance)))"
   ]
  },
  {
   "cell_type": "markdown",
   "metadata": {},
   "source": [
    "#### G. Most Common Item (10 pts)\n",
    "\n",
    "_Part 1_. Write a function that takes in a list and returns the most common item in the list. _Hint: Make use of `set`, and use a `for` loop to iterate through all the unique values of the list. Use the `list.count(...)` function to find the frequency of each item. While you iterate through the elements of the list, use a variable that keeps the value of the most common element that you have seen so far. Return the item with the highest frequency_\n",
    "\n"
   ]
  },
  {
   "cell_type": "code",
   "execution_count": 18,
   "metadata": {
    "collapsed": false
   },
   "outputs": [
    {
     "data": {
      "text/plain": [
       "2"
      ]
     },
     "execution_count": 18,
     "metadata": {},
     "output_type": "execute_result"
    }
   ],
   "source": [
    "example = [\"Kanisha\", \"Candance\", \"Lila\", \"Lupe\", \"Alexander\", \"Candance\", \n",
    "           \"Irvin\", \"Kanisha\", \"Lila\", \"May\", \"Lila\", \"Alexander\", \"Ivana\", \"Alexander\"]\n",
    "\n",
    "example.count(\"Candance\")"
   ]
  },
  {
   "cell_type": "code",
   "execution_count": 19,
   "metadata": {
    "collapsed": false
   },
   "outputs": [
    {
     "data": {
      "text/plain": [
       "('Lila', 3)"
      ]
     },
     "execution_count": 19,
     "metadata": {},
     "output_type": "execute_result"
    }
   ],
   "source": [
    "# Simple solution. \n",
    "# No need to return a tuple to get full credit; returning just the most common item is fine\n",
    "def mci(inp):\n",
    "    max_freq = 0 # the maximum frequency so far\n",
    "    mci = None # the most common element so far\n",
    "    for m in set(inp): # Go over all the *distinct* elements in the input\n",
    "        if max_freq<inp.count(m): # Use the count() function to see how often each element appears\n",
    "            # if the frequency is higher than the highest frequency so far\n",
    "            # then update the mci element and the max_freq\n",
    "            max_freq = inp.count(m) \n",
    "            mci = m\n",
    "    return mci, max_freq\n",
    "\n",
    "mci(example)"
   ]
  },
  {
   "cell_type": "code",
   "execution_count": 20,
   "metadata": {
    "collapsed": false
   },
   "outputs": [
    {
     "data": {
      "text/plain": [
       "[('Lila', 3), ('Alexander', 3)]"
      ]
     },
     "execution_count": 20,
     "metadata": {},
     "output_type": "execute_result"
    }
   ],
   "source": [
    "# Advanced solution, using list comprehensions.\n",
    "def mci(inp):\n",
    "    # Create a list with the frequency of each item, and keep the max\n",
    "    max_freq = max([inp.count(m) for m in set(inp)])\n",
    "    # Find all elements with frequency equal to max, and add a tuple with\n",
    "    # their name (m) and frequency (inp.count(m)) in the list\n",
    "    return [(m, inp.count(m)) for m in set(inp) if inp.count(m)==max_freq]\n",
    "\n",
    "mci(example)"
   ]
  },
  {
   "cell_type": "code",
   "execution_count": 21,
   "metadata": {
    "collapsed": false
   },
   "outputs": [
    {
     "data": {
      "text/plain": [
       "[('Lila', 3),\n",
       " ('Alexander', 3),\n",
       " ('Candance', 2),\n",
       " ('Kanisha', 2),\n",
       " ('Irvin', 1),\n",
       " ('Ivana', 1),\n",
       " ('Lupe', 1),\n",
       " ('May', 1)]"
      ]
     },
     "execution_count": 21,
     "metadata": {},
     "output_type": "execute_result"
    }
   ],
   "source": [
    "# Solution that used the collections library\n",
    "from collections import Counter\n",
    "Counter(example).most_common()"
   ]
  },
  {
   "cell_type": "markdown",
   "metadata": {
    "collapsed": true
   },
   "source": [
    "_Part 2_. (**Optional**) Use the function that you created here to find the most frequent team name from the file `data/baseball.csv` (the 5th column)."
   ]
  },
  {
   "cell_type": "code",
   "execution_count": 22,
   "metadata": {
    "collapsed": false
   },
   "outputs": [
    {
     "data": {
      "text/plain": [
       "[('NYN', 12)]"
      ]
     },
     "execution_count": 22,
     "metadata": {},
     "output_type": "execute_result"
    }
   ],
   "source": [
    "f = 'NYU_Notes/2-Introduction_to_Python/data/baseball.csv'\n",
    "lines = open(f, 'r').read().split('\\n') # open the file, read the content, split into lines\n",
    "teams = [line.split(',')[4] for line in lines] # split each line on comma, keep the 5th column\n",
    "mci(teams)\n"
   ]
  },
  {
   "cell_type": "code",
   "execution_count": null,
   "metadata": {
    "collapsed": true
   },
   "outputs": [],
   "source": []
  }
 ],
 "metadata": {
  "kernelspec": {
   "display_name": "Python 3",
   "language": "python",
   "name": "python3"
  },
  "language_info": {
   "codemirror_mode": {
    "name": "ipython",
    "version": 3
   },
   "file_extension": ".py",
   "mimetype": "text/x-python",
   "name": "python",
   "nbconvert_exporter": "python",
   "pygments_lexer": "ipython3",
   "version": "3.5.2"
  }
 },
 "nbformat": 4,
 "nbformat_minor": 0
}
